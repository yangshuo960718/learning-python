{
 "cells": [
  {
   "cell_type": "code",
   "execution_count": 23,
   "metadata": {},
   "outputs": [
    {
     "name": "stdout",
     "output_type": "stream",
     "text": [
      "hello!world!\n",
      "111111\n",
      "222222\n",
      "3333333\n",
      "\n",
      "hello\n",
      "!world!\n",
      "111111\n",
      "222222\n",
      "3333333\n"
     ]
    }
   ],
   "source": [
    "#用python获取数据  read()\n",
    "#help(open)\n",
    "#fp = open(\"/Users/jinhua/Desktop/train.csv\")\n",
    "with open('/Users/jinhua/Desktop/hello.txt','w') as f:\n",
    "    f.write('hello!world!\\n111111\\n222222\\n3333333')\n",
    "    f.close()\n",
    "with open('/Users/jinhua/Desktop/hello.txt') as f:\n",
    "    P1 = f.read()\n",
    "    P2 = f.read()\n",
    "print(P1)#从头读到尾\n",
    "print(P2)#输出为空，因为文件指针已经读到文件尾部\n",
    "with open('/Users/jinhua/Desktop/hello.txt') as f:\n",
    "    P1 = f.read(5)\n",
    "    P2 = f.read()#接着向下读\n",
    "print(P1)\n",
    "print(P2)\n",
    "#with 语句在执行后会主动关闭语句句柄，所以不用额外close"
   ]
  },
  {
   "cell_type": "code",
   "execution_count": 4,
   "metadata": {},
   "outputs": [
    {
     "name": "stdout",
     "output_type": "stream",
     "text": [
      "['hello!world!\\n', '111111\\n', '222222\\n', '3333333']\n"
     ]
    }
   ],
   "source": [
    "#readlines,readline\n",
    "with open('/Users/jinhua/Desktop/hello.txt','w') as f:\n",
    "    f.write('hello!world!\\n111111\\n222222\\n3333333')\n",
    "    f.close()\n",
    "with open('/Users/jinhua/Desktop/hello.txt') as f:\n",
    "    lines1 = f.readlines()\n",
    "    #lines2 = f.readline()\n",
    "print(lines1)\n",
    "#print(lines2)"
   ]
  },
  {
   "cell_type": "code",
   "execution_count": 16,
   "metadata": {},
   "outputs": [
    {
     "name": "stdout",
     "output_type": "stream",
     "text": [
      "\n"
     ]
    }
   ],
   "source": []
  },
  {
   "cell_type": "code",
   "execution_count": null,
   "metadata": {},
   "outputs": [],
   "source": []
  }
 ],
 "metadata": {
  "kernelspec": {
   "display_name": "Python 3",
   "language": "python",
   "name": "python3"
  },
  "language_info": {
   "codemirror_mode": {
    "name": "ipython",
    "version": 3
   },
   "file_extension": ".py",
   "mimetype": "text/x-python",
   "name": "python",
   "nbconvert_exporter": "python",
   "pygments_lexer": "ipython3",
   "version": "3.7.6"
  }
 },
 "nbformat": 4,
 "nbformat_minor": 4
}
